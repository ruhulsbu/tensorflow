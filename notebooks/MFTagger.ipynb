{
 "cells": [
  {
   "cell_type": "code",
   "execution_count": 1,
   "metadata": {
    "collapsed": true
   },
   "outputs": [],
   "source": [
    "import gensim\n",
    "import numpy as np\n",
    "from nltk.tag import UnigramTagger\n",
    "from nltk.corpus import conll2000"
   ]
  },
  {
   "cell_type": "code",
   "execution_count": 2,
   "metadata": {
    "collapsed": true
   },
   "outputs": [],
   "source": [
    "import gensim"
   ]
  },
  {
   "cell_type": "code",
   "execution_count": 3,
   "metadata": {
    "collapsed": false
   },
   "outputs": [],
   "source": [
    "tagger = UnigramTagger(conll2000.tagged_sents('./train.txt'))"
   ]
  },
  {
   "cell_type": "code",
   "execution_count": 4,
   "metadata": {
    "collapsed": false
   },
   "outputs": [],
   "source": [
    "def dump_conll_eval(text_file, tags_file, output_file, preds):\n",
    "    cf = open(text_file)\n",
    "    tf = open(tags_file)\n",
    "    of = open(output_file, 'w')\n",
    "    sents = [line.strip() for line in cf]\n",
    "    tags = [line.strip() for line in tf]\n",
    "    \n",
    "    sents_tokens = []\n",
    "    tags_tokens = []\n",
    "    for sent, tag in zip(sents, tags):\n",
    "        stokens = sent.split(' ')\n",
    "        stags = tag.split(' ')\n",
    "        sents_tokens.append(stokens)\n",
    "        tags_tokens.append(stags)\n",
    "        \n",
    "    for i in np.arange(0, len(sents_tokens)):\n",
    "        tuples = zip(sents_tokens[i], tags_tokens[i], preds[i])\n",
    "        for t in tuples:\n",
    "            f = list(t)\n",
    "            if f[2] is None:\n",
    "                f[2] = 'UNK'\n",
    "            of.write(' '.join(f))\n",
    "            of.write('\\n')\n",
    "        of.write('\\n')\n",
    "    of.close()"
   ]
  },
  {
   "cell_type": "code",
   "execution_count": 5,
   "metadata": {
    "collapsed": false
   },
   "outputs": [],
   "source": [
    "raw_preds = tagger.tag_sents(conll2000.sents('./test.txt'), )"
   ]
  },
  {
   "cell_type": "code",
   "execution_count": 6,
   "metadata": {
    "collapsed": false
   },
   "outputs": [],
   "source": [
    "preds = []\n",
    "for i in np.arange(0, len(raw_preds)):\n",
    "    preds.append(list(zip(*raw_preds[i])[1]))"
   ]
  },
  {
   "cell_type": "code",
   "execution_count": 7,
   "metadata": {
    "collapsed": false
   },
   "outputs": [],
   "source": [
    "dump_conll_eval('/data/vivek/pos_tags/dev_pos.txt', '/data/vivek/pos_tags/dev_pos.tags', '/data/vivek/pos_tags/test_mfc.output', preds)"
   ]
  },
  {
   "cell_type": "code",
   "execution_count": 8,
   "metadata": {
    "collapsed": false
   },
   "outputs": [
    {
     "name": "stdout",
     "output_type": "stream",
     "text": [
      "processed 47377 tokens with 47377 phrases; found: 47377 phrases; correct: 42342.\n",
      "accuracy:  89.37%; precision:  89.37%; recall:  89.37%; FB1:  89.37\n",
      "                #: precision: 100.00%; recall: 100.00%; FB1: 100.00  11\n",
      "                $: precision: 100.00%; recall: 100.00%; FB1: 100.00  384\n",
      "               '': precision: 100.00%; recall:  98.42%; FB1:  99.20  311\n",
      "                (: precision: 100.00%; recall: 100.00%; FB1: 100.00  77\n",
      "                ): precision: 100.00%; recall: 100.00%; FB1: 100.00  77\n",
      "                ,: precision: 100.00%; recall: 100.00%; FB1: 100.00  2390\n",
      "                .: precision: 100.00%; recall: 100.00%; FB1: 100.00  1975\n",
      "                :: precision: 100.00%; recall: 100.00%; FB1: 100.00  238\n",
      "               CC: precision: 100.00%; recall: 100.00%; FB1: 100.00  1214\n",
      "               CD: precision:  99.94%; recall:  84.05%; FB1:  91.31  1613\n",
      "               DT: precision:  99.65%; recall:  98.98%; FB1:  99.31  3993\n",
      "               EX: precision:  96.00%; recall: 100.00%; FB1:  97.96  50\n",
      "               FW: precision: 100.00%; recall:  75.00%; FB1:  85.71  3\n",
      "               IN: precision:  95.82%; recall:  99.84%; FB1:  97.79  5284\n",
      "               JJ: precision:  93.91%; recall:  83.20%; FB1:  88.23  2626\n",
      "              JJR: precision:  83.48%; recall:  95.05%; FB1:  88.89  230\n",
      "              JJS: precision: 100.00%; recall:  93.51%; FB1:  96.64  72\n",
      "               MD: precision:  99.79%; recall:  99.57%; FB1:  99.68  469\n",
      "               NN: precision:  94.95%; recall:  86.99%; FB1:  90.80  6085\n",
      "              NNP: precision:  98.25%; recall:  76.13%; FB1:  85.79  3724\n",
      "             NNPS: precision:  85.56%; recall:  59.23%; FB1:  70.00  90\n",
      "              NNS: precision:  98.15%; recall:  87.38%; FB1:  92.45  2701\n",
      "              PDT: precision:   0.00%; recall:   0.00%; FB1:   0.00  0\n",
      "              POS: precision:  92.93%; recall: 100.00%; FB1:  96.34  467\n",
      "              PRP: precision: 100.00%; recall:  99.88%; FB1:  99.94  813\n",
      "             PRP$: precision: 100.00%; recall: 100.00%; FB1: 100.00  421\n",
      "               RB: precision:  97.53%; recall:  87.37%; FB1:  92.17  1213\n",
      "              RBR: precision:  86.49%; recall:  45.07%; FB1:  59.26  37\n",
      "              RBS: precision: 100.00%; recall:  97.96%; FB1:  98.97  48\n",
      "               RP: precision:   0.00%; recall:   0.00%; FB1:   0.00  0\n",
      "               TO: precision: 100.00%; recall: 100.00%; FB1: 100.00  1178\n",
      "               UH: precision: 100.00%; recall:  50.00%; FB1:  66.67  1\n",
      "              UNK: precision:   0.00%; recall:   0.00%; FB1:   0.00  3302\n",
      "               VB: precision:  77.29%; recall:  67.06%; FB1:  71.81  1101\n",
      "              VBD: precision:  89.29%; recall:  84.87%; FB1:  87.02  1596\n",
      "              VBG: precision:  96.29%; recall:  82.01%; FB1:  88.58  620\n",
      "              VBN: precision:  79.02%; recall:  73.37%; FB1:  76.09  1025\n",
      "              VBP: precision:  76.39%; recall:  69.02%; FB1:  72.51  487\n",
      "              VBZ: precision:  97.67%; recall:  87.19%; FB1:  92.13  815\n",
      "              WDT: precision: 100.00%; recall:  52.97%; FB1:  69.26  107\n",
      "               WP: precision: 100.00%; recall: 100.00%; FB1: 100.00  110\n",
      "              WP$: precision: 100.00%; recall: 100.00%; FB1: 100.00  4\n",
      "              WRB: precision: 100.00%; recall:  98.92%; FB1:  99.46  92\n",
      "               ``: precision: 100.00%; recall: 100.00%; FB1: 100.00  323\n"
     ]
    }
   ],
   "source": [
    "%%bash \n",
    "perl /data/vivek/pos_tags/conlleval.pl -r <  /data/vivek/pos_tags/test_mfc.output"
   ]
  },
  {
   "cell_type": "code",
   "execution_count": null,
   "metadata": {
    "collapsed": true
   },
   "outputs": [],
   "source": []
  }
 ],
 "metadata": {
  "kernelspec": {
   "display_name": "Python 2",
   "language": "python",
   "name": "python2"
  },
  "language_info": {
   "codemirror_mode": {
    "name": "ipython",
    "version": 2
   },
   "file_extension": ".py",
   "mimetype": "text/x-python",
   "name": "python",
   "nbconvert_exporter": "python",
   "pygments_lexer": "ipython2",
   "version": "2.7.6"
  }
 },
 "nbformat": 4,
 "nbformat_minor": 0
}
