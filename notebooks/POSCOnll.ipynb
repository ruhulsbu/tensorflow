{
 "cells": [
  {
   "cell_type": "code",
   "execution_count": 21,
   "metadata": {
    "collapsed": true
   },
   "outputs": [],
   "source": [
    "import nltk"
   ]
  },
  {
   "cell_type": "code",
   "execution_count": 22,
   "metadata": {
    "collapsed": true
   },
   "outputs": [],
   "source": [
    " from nltk.corpus import conll2000"
   ]
  },
  {
   "cell_type": "code",
   "execution_count": 26,
   "metadata": {
    "collapsed": false
   },
   "outputs": [],
   "source": [
    "sfile=open('./train_pos.txt', 'w')\n",
    "tfile=open('./train_pos.tags', 'w')\n",
    "for sentence in conll2000.tagged_sents('./train.txt'):\n",
    "    words = zip(*sentence)[0]\n",
    "    sent = ' '.join(words)\n",
    "    tags = zip(*sentence)[1]\n",
    "    t = ' '.join(tags)\n",
    "    t = t.replace('\\n','')\n",
    "    t = t.replace('\\r','')\n",
    "    sfile.write(sent)\n",
    "    tfile.write(t)\n",
    "    sfile.write('\\n')\n",
    "    tfile.write('\\n')"
   ]
  },
  {
   "cell_type": "code",
   "execution_count": 28,
   "metadata": {
    "collapsed": false
   },
   "outputs": [],
   "source": [
    "sfile=open('./test_pos.txt', 'w')\n",
    "tfile=open('./test_pos.tags', 'w')\n",
    "for sentence in conll2000.tagged_sents('./test.txt'):\n",
    "    words = zip(*sentence)[0]\n",
    "    sent = ' '.join(words)\n",
    "    tags = zip(*sentence)[1]\n",
    "    if len(words) != len(tags):\n",
    "        assert(0)\n",
    "    t = ' '.join(tags)\n",
    "    t = t.replace('\\n','')\n",
    "    t = t.replace('\\r','')\n",
    "    sfile.write(sent.strip())\n",
    "    tfile.write(t.strip())\n",
    "    sfile.write('\\n')\n",
    "    tfile.write('\\n')"
   ]
  },
  {
   "cell_type": "code",
   "execution_count": null,
   "metadata": {
    "collapsed": true
   },
   "outputs": [],
   "source": []
  }
 ],
 "metadata": {
  "kernelspec": {
   "display_name": "Python 2",
   "language": "python",
   "name": "python2"
  },
  "language_info": {
   "codemirror_mode": {
    "name": "ipython",
    "version": 2
   },
   "file_extension": ".py",
   "mimetype": "text/x-python",
   "name": "python",
   "nbconvert_exporter": "python",
   "pygments_lexer": "ipython2",
   "version": "2.7.6"
  }
 },
 "nbformat": 4,
 "nbformat_minor": 0
}
